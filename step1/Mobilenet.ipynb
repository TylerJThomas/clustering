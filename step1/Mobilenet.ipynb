{
 "cells": [
  {
   "cell_type": "code",
   "execution_count": 15,
   "id": "a2ecb9cc",
   "metadata": {},
   "outputs": [
    {
     "data": {
      "application/javascript": [
       "IPython.notebook.kernel.execute('nb_name = \"' + IPython.notebook.notebook_name + '\"')\n",
       "// Get the current notebook name (for backup purposes)\n"
      ],
      "text/plain": [
       "<IPython.core.display.Javascript object>"
      ]
     },
     "metadata": {},
     "output_type": "display_data"
    }
   ],
   "source": [
    "%%javascript\n",
    "IPython.notebook.kernel.execute('nb_name = \"' + IPython.notebook.notebook_name + '\"')\n",
    "// Get the current notebook name (for backup purposes)"
   ]
  },
  {
   "cell_type": "code",
   "execution_count": 16,
   "id": "cf6d03f7",
   "metadata": {},
   "outputs": [],
   "source": [
    "### BACKUP THE CURRENT NOTEBOOK TO S3 ###\n",
    "### IF THIS FAILS RUN THE CELL ABOVE IT AGAIN ### \n",
    "import boto3 \n",
    "import os \n",
    "backup_bucket_name = \"backups-final\"\n",
    "s3_client = boto3.client(\n",
    "    's3',\n",
    "    aws_access_key_id=os.getenv('AWS_ACCESS_KEY_ID'),\n",
    "    aws_secret_access_key=os.getenv('AWS_SECRET_ACCESS_KEY')\n",
    ")\n",
    "nb_full_path = os.path.join(os.getcwd(), nb_name)\n",
    "s3_client.upload_file(nb_full_path, backup_bucket_name, nb_name)"
   ]
  },
  {
   "cell_type": "code",
   "execution_count": 17,
   "id": "80a570b8",
   "metadata": {},
   "outputs": [],
   "source": [
    "import pyspark\n",
    "from pyspark.sql import SQLContext\n",
    "from pyspark.sql import functions"
   ]
  },
  {
   "cell_type": "code",
   "execution_count": 18,
   "id": "5d4348fa",
   "metadata": {},
   "outputs": [],
   "source": [
    "sql = SQLContext(sc)"
   ]
  },
  {
   "cell_type": "code",
   "execution_count": 19,
   "id": "935449ff",
   "metadata": {},
   "outputs": [],
   "source": [
    "data_dir = 's3://geo-final'\n",
    "out_dir = 's3://cleaned-geo-final'\n",
    "status_file = data_dir + '/devicestatus.txt'\n",
    "scrubbed_status_file = data_dir + '/scrubbed_devicestatus3.txt'\n",
    "clean_latlon_file = out_dir + '/clean_devicestatus3.txt'\n",
    "d_index = 19 "
   ]
  },
  {
   "cell_type": "code",
   "execution_count": 20,
   "id": "2464897a",
   "metadata": {},
   "outputs": [],
   "source": [
    "\"\"\"\n",
    "    This code extracts the required fields and writes it to a new csv in s3\n",
    "    \n",
    "    First, the delimeter is determined using a fixed offset index of 19\n",
    "    Then, split is used to seperate the fields by delimeter,\n",
    "            we ensure that there are 14 fields as expected\n",
    "    Next, the data is extracted from indicies 0,1,2,12 and 13\n",
    "            model and manufacturer must be isolated from index 1.\n",
    "            This can be done using split, as the manufacturer name \n",
    "            is always one word.\n",
    "    Finally, the data is written to a new file as csv\n",
    "\"\"\"\n",
    "import smart_open\n",
    "\n",
    "with smart_open.open(status_file,'r') as fin:\n",
    "    with smart_open.open(scrubbed_status_file, 'w') as fout:\n",
    "        for line in fin:\n",
    "            delimeter = line[d_index]\n",
    "            comma_sep = line.replace(delimeter, ',')\n",
    "            split_fields = comma_sep.split(',')\n",
    "            if len(split_fields) != 14:\n",
    "                continue\n",
    "            new_line = []\n",
    "            date = split_fields[0]\n",
    "            manufacturer = split_fields[1].split(' ')[0]\n",
    "            model = ' '.join(split_fields[1].split(' ')[1:])\n",
    "            deviceID = split_fields[2]\n",
    "            lat = split_fields[12]\n",
    "            long = split_fields[13].rstrip('\\n')\n",
    "            \n",
    "            if float(lat) == 0.0 or float(long) == 0.0:\n",
    "                continue\n",
    "            \n",
    "            new_line.append(lat)\n",
    "            new_line.append(long)\n",
    "            new_line.append(date)\n",
    "            new_line.append(deviceID)\n",
    "            new_line.append(manufacturer)\n",
    "            new_line.append(model)\n",
    "\n",
    "            scrubbed = ','.join(new_line)\n",
    "            fout.write(scrubbed + '\\n')"
   ]
  },
  {
   "cell_type": "code",
   "execution_count": 21,
   "id": "c49bca10",
   "metadata": {},
   "outputs": [],
   "source": [
    "from pyspark.sql.types import *\n",
    "\n",
    "status_df_schema = StructType(\n",
    "  [StructField('Latitude', DoubleType()),\n",
    "   StructField('Longitude', DoubleType()),\n",
    "   StructField('date', DateType()),\n",
    "   StructField('deviceID', StringType()),\n",
    "   StructField('manufacturer', StringType()),\n",
    "   StructField('model', StringType())]\n",
    ")\n"
   ]
  },
  {
   "cell_type": "code",
   "execution_count": 22,
   "id": "82b86605",
   "metadata": {},
   "outputs": [],
   "source": [
    "status_df = sql.read.format('csv')\\\n",
    "                            .options(header=False, inferSchema=False)\\\n",
    "                            .schema(status_df_schema)\\\n",
    "                            .load(scrubbed_status_file)\n"
   ]
  },
  {
   "cell_type": "code",
   "execution_count": 23,
   "id": "60c4770c",
   "metadata": {},
   "outputs": [
    {
     "name": "stdout",
     "output_type": "stream",
     "text": [
      "+-------------+--------------+----------+--------------------+------------+--------------+\n",
      "|     Latitude|     Longitude|      date|            deviceID|manufacturer|         model|\n",
      "+-------------+--------------+----------+--------------------+------------+--------------+\n",
      "|33.6894754264|-117.543308253|2014-03-15|8cc3b47e-bd01-448...|    Sorrento|          F41L|\n",
      "|37.4321088904|-121.485029632|2014-03-15|ef8c7564-0a1a-465...|      MeeToo|           1.0|\n",
      "|39.4378908349|-120.938978486|2014-03-15|23eba027-b95a-472...|      MeeToo|           1.0|\n",
      "|39.3635186767|-119.400334708|2014-03-15|707daba1-5640-4d6...|    Sorrento|          F41L|\n",
      "|33.1913581092|-116.448242643|2014-03-15|db66fe81-aa55-43b...|       Ronin|Novelty Note 1|\n",
      "|33.8343543748|-117.330000857|2014-03-15|ffa18088-69a0-433...|    Sorrento|          F41L|\n",
      "|37.3803954321|-121.840756755|2014-03-15|66d678e6-9c87-48d...|    Sorrento|          F33L|\n",
      "|34.1841062345|  -117.9435329|2014-03-15|673f7e4b-d52b-44f...|      MeeToo|           4.1|\n",
      "|32.2850556785|-111.819583734|2014-03-15|a678ccc3-b0d2-452...|       Ronin|Novelty Note 2|\n",
      "|45.2400522984|-122.377467861|2014-03-15|86bef6ae-2f1c-42e...|    Sorrento|          F41L|\n",
      "|37.9248961741|-122.206868167|2014-03-15|27178d24-3a61-42f...|      iFruit|             3|\n",
      "|38.1653163975|-122.151608378|2014-03-15|b4a15931-9a69-469...|     Titanic|          2400|\n",
      "| 33.323126641|-116.472234745|2014-03-15|e75dc777-b531-4db...|       Ronin|            S1|\n",
      "|33.1774985363|-116.889226299|2014-03-15|d4ebd9ae-4dad-4fb...|       Ronin|Novelty Note 3|\n",
      "|32.2083493316|-111.434102713|2014-03-15|b954db08-1f97-431...|       Ronin|Novelty Note 1|\n",
      "|34.0487620041|-111.928871717|2014-03-15|16085fbf-cda5-448...|      MeeToo|           1.0|\n",
      "|37.9031053656|-121.561451342|2014-03-15|6474caf1-7bbf-459...|      iFruit|             1|\n",
      "| 36.032967794|-118.970108886|2014-03-15|668e6f06-a8aa-4be...|      MeeToo|           5.0|\n",
      "|45.0400810371|-117.858004521|2014-03-15|6d195272-8dba-42d...|       Ronin|Novelty Note 1|\n",
      "|35.2338863976|  -114.3057523|2014-03-15|d228cdab-8b35-473...|    Sorrento|          F10L|\n",
      "+-------------+--------------+----------+--------------------+------------+--------------+\n",
      "only showing top 20 rows\n",
      "\n"
     ]
    }
   ],
   "source": [
    "status_df.show()"
   ]
  },
  {
   "cell_type": "markdown",
   "id": "02680335",
   "metadata": {},
   "source": [
    "##### We want just the lat lon for the rest of the project"
   ]
  },
  {
   "cell_type": "code",
   "execution_count": 24,
   "id": "f4d72ac7",
   "metadata": {},
   "outputs": [
    {
     "name": "stdout",
     "output_type": "stream",
     "text": [
      "+-------------+--------------+\n",
      "|     Latitude|     Longitude|\n",
      "+-------------+--------------+\n",
      "|33.6894754264|-117.543308253|\n",
      "|37.4321088904|-121.485029632|\n",
      "|39.4378908349|-120.938978486|\n",
      "|39.3635186767|-119.400334708|\n",
      "|33.1913581092|-116.448242643|\n",
      "|33.8343543748|-117.330000857|\n",
      "|37.3803954321|-121.840756755|\n",
      "|34.1841062345|  -117.9435329|\n",
      "|32.2850556785|-111.819583734|\n",
      "|45.2400522984|-122.377467861|\n",
      "|37.9248961741|-122.206868167|\n",
      "|38.1653163975|-122.151608378|\n",
      "| 33.323126641|-116.472234745|\n",
      "|33.1774985363|-116.889226299|\n",
      "|32.2083493316|-111.434102713|\n",
      "|34.0487620041|-111.928871717|\n",
      "|37.9031053656|-121.561451342|\n",
      "| 36.032967794|-118.970108886|\n",
      "|45.0400810371|-117.858004521|\n",
      "|35.2338863976|  -114.3057523|\n",
      "+-------------+--------------+\n",
      "only showing top 20 rows\n",
      "\n"
     ]
    }
   ],
   "source": [
    "latlon_df = status_df.select('Latitude', 'Longitude')\n",
    "latlon_df.show()"
   ]
  },
  {
   "cell_type": "code",
   "execution_count": 25,
   "id": "fe5e361f",
   "metadata": {},
   "outputs": [
    {
     "name": "stderr",
     "output_type": "stream",
     "text": [
      "                                                                                \r"
     ]
    }
   ],
   "source": [
    "latlon_df.write.csv(clean_latlon_file)"
   ]
  },
  {
   "cell_type": "code",
   "execution_count": 26,
   "id": "976904d1",
   "metadata": {},
   "outputs": [
    {
     "name": "stderr",
     "output_type": "stream",
     "text": [
      "                                                                                \r"
     ]
    }
   ],
   "source": [
    "from shapely.geometry import Point\n",
    "import geopandas as gpd\n",
    "df = status_df.toPandas()\n",
    "gdf = gpd.GeoDataFrame(df, geometry=gpd.points_from_xy(df.Longitude,df.Latitude))"
   ]
  },
  {
   "cell_type": "code",
   "execution_count": 27,
   "id": "c6ef0da8",
   "metadata": {},
   "outputs": [
    {
     "data": {
      "text/html": [
       "<div>\n",
       "<style scoped>\n",
       "    .dataframe tbody tr th:only-of-type {\n",
       "        vertical-align: middle;\n",
       "    }\n",
       "\n",
       "    .dataframe tbody tr th {\n",
       "        vertical-align: top;\n",
       "    }\n",
       "\n",
       "    .dataframe thead th {\n",
       "        text-align: right;\n",
       "    }\n",
       "</style>\n",
       "<table border=\"1\" class=\"dataframe\">\n",
       "  <thead>\n",
       "    <tr style=\"text-align: right;\">\n",
       "      <th></th>\n",
       "      <th>Latitude</th>\n",
       "      <th>Longitude</th>\n",
       "      <th>date</th>\n",
       "      <th>deviceID</th>\n",
       "      <th>manufacturer</th>\n",
       "      <th>model</th>\n",
       "      <th>geometry</th>\n",
       "    </tr>\n",
       "  </thead>\n",
       "  <tbody>\n",
       "    <tr>\n",
       "      <th>0</th>\n",
       "      <td>33.689475</td>\n",
       "      <td>-117.543308</td>\n",
       "      <td>2014-03-15</td>\n",
       "      <td>8cc3b47e-bd01-4482-b500-28f2342679af</td>\n",
       "      <td>Sorrento</td>\n",
       "      <td>F41L</td>\n",
       "      <td>POINT (-117.54331 33.68948)</td>\n",
       "    </tr>\n",
       "    <tr>\n",
       "      <th>1</th>\n",
       "      <td>37.432109</td>\n",
       "      <td>-121.485030</td>\n",
       "      <td>2014-03-15</td>\n",
       "      <td>ef8c7564-0a1a-4650-a655-c8bbd5f8f943</td>\n",
       "      <td>MeeToo</td>\n",
       "      <td>1.0</td>\n",
       "      <td>POINT (-121.48503 37.43211)</td>\n",
       "    </tr>\n",
       "    <tr>\n",
       "      <th>2</th>\n",
       "      <td>39.437891</td>\n",
       "      <td>-120.938978</td>\n",
       "      <td>2014-03-15</td>\n",
       "      <td>23eba027-b95a-4729-9a4b-a3cca51c5548</td>\n",
       "      <td>MeeToo</td>\n",
       "      <td>1.0</td>\n",
       "      <td>POINT (-120.93898 39.43789)</td>\n",
       "    </tr>\n",
       "    <tr>\n",
       "      <th>3</th>\n",
       "      <td>39.363519</td>\n",
       "      <td>-119.400335</td>\n",
       "      <td>2014-03-15</td>\n",
       "      <td>707daba1-5640-4d60-a6d9-1d6fa0645be0</td>\n",
       "      <td>Sorrento</td>\n",
       "      <td>F41L</td>\n",
       "      <td>POINT (-119.40033 39.36352)</td>\n",
       "    </tr>\n",
       "    <tr>\n",
       "      <th>4</th>\n",
       "      <td>33.191358</td>\n",
       "      <td>-116.448243</td>\n",
       "      <td>2014-03-15</td>\n",
       "      <td>db66fe81-aa55-43b4-9418-fc6e7a00f891</td>\n",
       "      <td>Ronin</td>\n",
       "      <td>Novelty Note 1</td>\n",
       "      <td>POINT (-116.44824 33.19136)</td>\n",
       "    </tr>\n",
       "  </tbody>\n",
       "</table>\n",
       "</div>"
      ],
      "text/plain": [
       "    Latitude   Longitude        date                              deviceID  \\\n",
       "0  33.689475 -117.543308  2014-03-15  8cc3b47e-bd01-4482-b500-28f2342679af   \n",
       "1  37.432109 -121.485030  2014-03-15  ef8c7564-0a1a-4650-a655-c8bbd5f8f943   \n",
       "2  39.437891 -120.938978  2014-03-15  23eba027-b95a-4729-9a4b-a3cca51c5548   \n",
       "3  39.363519 -119.400335  2014-03-15  707daba1-5640-4d60-a6d9-1d6fa0645be0   \n",
       "4  33.191358 -116.448243  2014-03-15  db66fe81-aa55-43b4-9418-fc6e7a00f891   \n",
       "\n",
       "  manufacturer           model                     geometry  \n",
       "0     Sorrento            F41L  POINT (-117.54331 33.68948)  \n",
       "1       MeeToo             1.0  POINT (-121.48503 37.43211)  \n",
       "2       MeeToo             1.0  POINT (-120.93898 39.43789)  \n",
       "3     Sorrento            F41L  POINT (-119.40033 39.36352)  \n",
       "4        Ronin  Novelty Note 1  POINT (-116.44824 33.19136)  "
      ]
     },
     "execution_count": 27,
     "metadata": {},
     "output_type": "execute_result"
    }
   ],
   "source": [
    "gdf.head()"
   ]
  },
  {
   "cell_type": "code",
   "execution_count": 28,
   "id": "9b82f554",
   "metadata": {},
   "outputs": [
    {
     "data": {
      "text/plain": [
       "<AxesSubplot:>"
      ]
     },
     "execution_count": 28,
     "metadata": {},
     "output_type": "execute_result"
    },
    {
     "data": {
      "image/png": "[encoded data removed]",
      "text/plain": [
       "<Figure size 432x288 with 1 Axes>"
      ]
     },
     "metadata": {
      "needs_background": "light"
     },
     "output_type": "display_data"
    }
   ],
   "source": [
    "world = gpd.read_file(gpd.datasets.get_path('naturalearth_lowres'))\n",
    "ax = world[world.continent == 'North America'].plot()\n",
    "gdf.plot(ax=ax,color='red',markersize=0.5)"
   ]
  },
  {
   "cell_type": "code",
   "execution_count": null,
   "id": "cc3a843d",
   "metadata": {},
   "outputs": [],
   "source": []
  }
 ],
 "metadata": {
  "kernelspec": {
   "display_name": "Python 3 (ipykernel)",
   "language": "python",
   "name": "python3"
  },
  "language_info": {
   "codemirror_mode": {
    "name": "ipython",
    "version": 3
   },
   "file_extension": ".py",
   "mimetype": "text/x-python",
   "name": "python",
   "nbconvert_exporter": "python",
   "pygments_lexer": "ipython3",
   "version": "3.7.10"
  }
 },
 "nbformat": 4,
 "nbformat_minor": 5
}
