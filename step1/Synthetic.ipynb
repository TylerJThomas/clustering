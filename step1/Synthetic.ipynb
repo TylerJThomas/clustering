{
 "cells": [
  {
   "cell_type": "code",
   "execution_count": 1,
   "id": "3c752545",
   "metadata": {},
   "outputs": [
    {
     "data": {
      "application/javascript": [
       "IPython.notebook.kernel.execute('nb_name = \"' + IPython.notebook.notebook_name + '\"')\n",
       "// Get the current notebook name (for backup purposes)\n"
      ],
      "text/plain": [
       "<IPython.core.display.Javascript object>"
      ]
     },
     "metadata": {},
     "output_type": "display_data"
    }
   ],
   "source": [
    "%%javascript\n",
    "IPython.notebook.kernel.execute('nb_name = \"' + IPython.notebook.notebook_name + '\"')\n",
    "// Get the current notebook name (for backup purposes)"
   ]
  },
  {
   "cell_type": "code",
   "execution_count": 2,
   "id": "b515ca6f",
   "metadata": {},
   "outputs": [],
   "source": [
    "### BACKUP THE CURRENT NOTEBOOK TO S3 ###\n",
    "### IF THIS CELL FAILS RUN THE ONE ABOVE IT AND TRY AGAIN ### \n",
    "import boto3 \n",
    "import os \n",
    "backup_bucket_name = \"backups-final\"\n",
    "s3_client = boto3.client(\n",
    "    's3',\n",
    "    aws_access_key_id=os.getenv('AWS_ACCESS_KEY_ID'),\n",
    "    aws_secret_access_key=os.getenv('AWS_SECRET_ACCESS_KEY')\n",
    ")\n",
    "nb_full_path = os.path.join(os.getcwd(), nb_name)\n",
    "s3_client.upload_file(nb_full_path, backup_bucket_name, nb_name)"
   ]
  },
  {
   "cell_type": "code",
   "execution_count": 3,
   "id": "fa75420b",
   "metadata": {},
   "outputs": [],
   "source": [
    "import pyspark\n",
    "from pyspark.sql import SQLContext\n",
    "from pyspark.sql import functions"
   ]
  },
  {
   "cell_type": "code",
   "execution_count": 4,
   "id": "62c946ca",
   "metadata": {},
   "outputs": [],
   "source": [
    "sql = SQLContext(sc)"
   ]
  },
  {
   "cell_type": "code",
   "execution_count": 15,
   "id": "7c2670f0",
   "metadata": {},
   "outputs": [],
   "source": [
    "data_dir = 's3://geo-final'\n",
    "out_dir = 's3://cleaned-geo-final'\n",
    "geo_file = data_dir + '/sample_geo.txt'\n",
    "clean_latlon_file = out_dir + '/clean_sample_geo.txt'"
   ]
  },
  {
   "cell_type": "code",
   "execution_count": 16,
   "id": "015db828",
   "metadata": {},
   "outputs": [],
   "source": [
    "from pyspark.sql.types import *\n",
    "\n",
    "geo_df_schema = StructType(\n",
    "  [StructField('lat', DoubleType()),\n",
    "   StructField('long', DoubleType()),\n",
    "   StructField('locationID', IntegerType())]\n",
    ")\n"
   ]
  },
  {
   "cell_type": "code",
   "execution_count": 17,
   "id": "c95e6d74",
   "metadata": {},
   "outputs": [
    {
     "name": "stderr",
     "output_type": "stream",
     "text": [
      "                                                                                \r"
     ]
    }
   ],
   "source": [
    "geo_df = sql.read.csv(geo_file, sep=r'\\t',header=True)"
   ]
  },
  {
   "cell_type": "code",
   "execution_count": 18,
   "id": "35f7e8c8",
   "metadata": {},
   "outputs": [
    {
     "name": "stdout",
     "output_type": "stream",
     "text": [
      "+-----------+------------+----------+\n",
      "|   Latitude|   Longitude|LocationID|\n",
      "+-----------+------------+----------+\n",
      "|37.77253945|-77.49954987|         1|\n",
      "|42.09013298|-87.68915558|         2|\n",
      "|39.56341754|-75.58753204|         3|\n",
      "|39.45302347|-87.69374084|         4|\n",
      "| 38.9537989|-77.01656342|         5|\n",
      "|39.90031211|-75.74486542|         6|\n",
      "|36.24009843|-115.1586914|         7|\n",
      "|26.11330818|-80.09202576|         8|\n",
      "|34.27036086|-118.3162918|         9|\n",
      "|38.81664153|-97.62573242|        10|\n",
      "|33.67614531|-118.1892776|        11|\n",
      "|28.74612042|-81.44248199|        12|\n",
      "|38.35152702|-81.69611359|        13|\n",
      "|39.57271402|-86.35784912|        14|\n",
      "|30.19543489|-81.45937347|        15|\n",
      "|40.49826888|-74.16846466|        16|\n",
      "|34.05601838|-117.9957428|        17|\n",
      "|38.14426403|-122.5368347|        18|\n",
      "|38.92940099|-94.39599609|        19|\n",
      "|39.51639552|-77.81656647|        20|\n",
      "+-----------+------------+----------+\n",
      "only showing top 20 rows\n",
      "\n"
     ]
    }
   ],
   "source": [
    "geo_df.show()"
   ]
  },
  {
   "cell_type": "markdown",
   "id": "8a2b6b97",
   "metadata": {},
   "source": [
    "##### For the rest of this project we just want lat and lon"
   ]
  },
  {
   "cell_type": "code",
   "execution_count": 19,
   "id": "85581b27",
   "metadata": {},
   "outputs": [
    {
     "name": "stdout",
     "output_type": "stream",
     "text": [
      "+-----------+------------+\n",
      "|   Latitude|   Longitude|\n",
      "+-----------+------------+\n",
      "|37.77253945|-77.49954987|\n",
      "|42.09013298|-87.68915558|\n",
      "|39.56341754|-75.58753204|\n",
      "|39.45302347|-87.69374084|\n",
      "| 38.9537989|-77.01656342|\n",
      "|39.90031211|-75.74486542|\n",
      "|36.24009843|-115.1586914|\n",
      "|26.11330818|-80.09202576|\n",
      "|34.27036086|-118.3162918|\n",
      "|38.81664153|-97.62573242|\n",
      "|33.67614531|-118.1892776|\n",
      "|28.74612042|-81.44248199|\n",
      "|38.35152702|-81.69611359|\n",
      "|39.57271402|-86.35784912|\n",
      "|30.19543489|-81.45937347|\n",
      "|40.49826888|-74.16846466|\n",
      "|34.05601838|-117.9957428|\n",
      "|38.14426403|-122.5368347|\n",
      "|38.92940099|-94.39599609|\n",
      "|39.51639552|-77.81656647|\n",
      "+-----------+------------+\n",
      "only showing top 20 rows\n",
      "\n"
     ]
    }
   ],
   "source": [
    "latlon_df = geo_df.select('Latitude', 'Longitude')\n",
    "latlon_df.show()"
   ]
  },
  {
   "cell_type": "code",
   "execution_count": 20,
   "id": "efabcf48",
   "metadata": {},
   "outputs": [
    {
     "name": "stderr",
     "output_type": "stream",
     "text": [
      "                                                                                \r"
     ]
    }
   ],
   "source": [
    "latlon_df.write.csv(clean_latlon_file)"
   ]
  },
  {
   "cell_type": "code",
   "execution_count": 21,
   "id": "7ec99faf",
   "metadata": {},
   "outputs": [],
   "source": [
    "\"\"\"\n",
    "    The dataframe is converted to pandas, then a geopandas data frame to make plotting simple\n",
    "\"\"\"\n",
    "from shapely.geometry import Point\n",
    "import geopandas as gpd\n",
    "df = geo_df.toPandas()\n",
    "gdf = gpd.GeoDataFrame(df, geometry=gpd.points_from_xy(df.Longitude,df.Latitude))"
   ]
  },
  {
   "cell_type": "code",
   "execution_count": 22,
   "id": "933f5bb6",
   "metadata": {},
   "outputs": [
    {
     "data": {
      "text/plain": [
       "<AxesSubplot:>"
      ]
     },
     "execution_count": 22,
     "metadata": {},
     "output_type": "execute_result"
    },
    {
     "data": {
      "image/png": "[encoded data removed]",
      "text/plain": [
       "<Figure size 432x288 with 1 Axes>"
      ]
     },
     "metadata": {
      "needs_background": "light"
     },
     "output_type": "display_data"
    }
   ],
   "source": [
    "world = gpd.read_file(gpd.datasets.get_path('naturalearth_lowres'))\n",
    "ax = world[world.continent == 'North America'].plot()\n",
    "gdf.plot(ax=ax,color='red',markersize=0.5)"
   ]
  },
  {
   "cell_type": "code",
   "execution_count": null,
   "id": "a62fdfa5",
   "metadata": {},
   "outputs": [],
   "source": []
  }
 ],
 "metadata": {
  "kernelspec": {
   "display_name": "Python 3 (ipykernel)",
   "language": "python",
   "name": "python3"
  },
  "language_info": {
   "codemirror_mode": {
    "name": "ipython",
    "version": 3
   },
   "file_extension": ".py",
   "mimetype": "text/x-python",
   "name": "python",
   "nbconvert_exporter": "python",
   "pygments_lexer": "ipython3",
   "version": "3.7.10"
  }
 },
 "nbformat": 4,
 "nbformat_minor": 5
}
