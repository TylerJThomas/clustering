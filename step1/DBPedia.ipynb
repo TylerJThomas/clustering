{
 "cells": [
  {
   "cell_type": "code",
   "execution_count": 8,
   "id": "c6817f31",
   "metadata": {},
   "outputs": [
    {
     "data": {
      "application/javascript": [
       "IPython.notebook.kernel.execute('nb_name = \"' + IPython.notebook.notebook_name + '\"')\n",
       "// Get the current notebook name (for backup purposes)\n"
      ],
      "text/plain": [
       "<IPython.core.display.Javascript object>"
      ]
     },
     "metadata": {},
     "output_type": "display_data"
    }
   ],
   "source": [
    "%%javascript\n",
    "IPython.notebook.kernel.execute('nb_name = \"' + IPython.notebook.notebook_name + '\"')\n",
    "// Get the current notebook name (for backup purposes)"
   ]
  },
  {
   "cell_type": "code",
   "execution_count": 9,
   "id": "0d5f9c27",
   "metadata": {},
   "outputs": [],
   "source": [
    "### BACKUP THE CURRENT NOTEBOOK TO S3 ###\n",
    "import boto3 \n",
    "import os \n",
    "backup_bucket_name = \"backups-final\"\n",
    "s3_client = boto3.client(\n",
    "    's3',\n",
    "    aws_access_key_id=os.getenv('AWS_ACCESS_KEY_ID'),\n",
    "    aws_secret_access_key=os.getenv('AWS_SECRET_ACCESS_KEY')\n",
    ")\n",
    "nb_full_path = os.path.join(os.getcwd(), nb_name)\n",
    "s3_client.upload_file(nb_full_path, backup_bucket_name, nb_name)"
   ]
  },
  {
   "cell_type": "code",
   "execution_count": 10,
   "id": "c4031ec2",
   "metadata": {},
   "outputs": [],
   "source": [
    "import pyspark\n",
    "from pyspark.sql import SQLContext\n",
    "from pyspark.sql import functions"
   ]
  },
  {
   "cell_type": "code",
   "execution_count": 11,
   "id": "d1348947",
   "metadata": {},
   "outputs": [],
   "source": [
    "sql = SQLContext(sc)"
   ]
  },
  {
   "cell_type": "code",
   "execution_count": 12,
   "id": "0abe7ad8",
   "metadata": {},
   "outputs": [],
   "source": [
    "data_dir = 's3://geo-final'\n",
    "out_dir = 's3://cleaned-geo-final'\n",
    "geo_file = data_dir + '/lat_longs.txt'\n",
    "clean_latlon_file = out_dir + '/clean_lat_longs.txt'"
   ]
  },
  {
   "cell_type": "code",
   "execution_count": 13,
   "id": "40e1e3d5",
   "metadata": {},
   "outputs": [],
   "source": [
    "from pyspark.sql.types import *\n",
    "\n",
    "geo_df_schema = StructType(\n",
    "  [StructField('Latitude', DoubleType()),\n",
    "   StructField('Longitude', DoubleType()),\n",
    "   StructField('page_name', StringType())]\n",
    ")\n"
   ]
  },
  {
   "cell_type": "code",
   "execution_count": 14,
   "id": "0471592b",
   "metadata": {},
   "outputs": [],
   "source": [
    "geo_df = spark.read.options(header=False, sep=' ').schema(geo_df_schema).csv(geo_file)"
   ]
  },
  {
   "cell_type": "code",
   "execution_count": 15,
   "id": "801ad1cb",
   "metadata": {},
   "outputs": [
    {
     "name": "stderr",
     "output_type": "stream",
     "text": [
      "[Stage 0:>                                                          (0 + 1) / 1]"
     ]
    },
    {
     "name": "stdout",
     "output_type": "stream",
     "text": [
      "+-------------------+------------------+\n",
      "|           Latitude|         Longitude|\n",
      "+-------------------+------------------+\n",
      "|               36.7| 3.216666666666667|\n",
      "|               42.5|1.5166666666666666|\n",
      "| 12.516666666666667|-70.03333333333333|\n",
      "| -8.833333333333334|13.333333333333334|\n",
      "| 41.333333333333336|              19.8|\n",
      "|  34.53333333333333| 69.13333333333334|\n",
      "| 40.416666666666664|49.833333333333336|\n",
      "|  39.93333333333333| 32.86666666666667|\n",
      "|  52.36666666666667|               4.9|\n",
      "|              50.46|              2.13|\n",
      "| 17.116666666666667|            -61.85|\n",
      "|  57.04638888888889| 9.919166666666667|\n",
      "|              56.15|10.216666666666667|\n",
      "|             34.929|           138.601|\n",
      "|  42.03472222222222|            -93.62|\n",
      "|  33.41972222222222|           43.3125|\n",
      "|  50.78333333333333| 6.083333333333333|\n",
      "|            57.1526|             -2.11|\n",
      "| 36.766666666666666| 3.216666666666667|\n",
      "|-15.518055555555556|-71.76527777777778|\n",
      "+-------------------+------------------+\n",
      "only showing top 20 rows\n",
      "\n"
     ]
    },
    {
     "name": "stderr",
     "output_type": "stream",
     "text": [
      "                                                                                \r"
     ]
    }
   ],
   "source": [
    "geo_df = geo_df.drop('page_name').filter(geo_df.Latitude.isNotNull()).filter(geo_df.Longitude.isNotNull())\n",
    "geo_df.show()"
   ]
  },
  {
   "cell_type": "code",
   "execution_count": 16,
   "id": "a4dbebbe",
   "metadata": {},
   "outputs": [
    {
     "name": "stderr",
     "output_type": "stream",
     "text": [
      "                                                                                \r"
     ]
    }
   ],
   "source": [
    "geo_df.write.csv(clean_latlon_file)"
   ]
  },
  {
   "cell_type": "code",
   "execution_count": 17,
   "id": "fce02e9c",
   "metadata": {},
   "outputs": [
    {
     "name": "stderr",
     "output_type": "stream",
     "text": [
      "                                                                                \r"
     ]
    }
   ],
   "source": [
    "\"\"\"\n",
    "    The dataframe is converted to pandas, then a geopandas data frame to make plotting simple\n",
    "\"\"\"\n",
    "from shapely.geometry import Point\n",
    "import geopandas as gpd\n",
    "df = geo_df.drop('page_name').toPandas()\n",
    "gdf = gpd.GeoDataFrame(df, geometry=gpd.points_from_xy(df.Longitude,df.Latitude))"
   ]
  },
  {
   "cell_type": "code",
   "execution_count": 19,
   "id": "dfe2c930",
   "metadata": {},
   "outputs": [
    {
     "data": {
      "text/plain": [
       "<AxesSubplot:>"
      ]
     },
     "execution_count": 19,
     "metadata": {},
     "output_type": "execute_result"
    },
    {
     "data": {
      "image/png": "[encoded data removed]",
      "text/plain": [
       "<Figure size 432x288 with 1 Axes>"
      ]
     },
     "metadata": {
      "needs_background": "light"
     },
     "output_type": "display_data"
    }
   ],
   "source": [
    "world = gpd.read_file(gpd.datasets.get_path('naturalearth_lowres'))\n",
    "ax = world.plot()\n",
    "gdf.plot(ax=ax,c='red',markersize=0.5)"
   ]
  },
  {
   "cell_type": "code",
   "execution_count": null,
   "id": "c514681e",
   "metadata": {},
   "outputs": [],
   "source": []
  }
 ],
 "metadata": {
  "kernelspec": {
   "display_name": "Python 3 (ipykernel)",
   "language": "python",
   "name": "python3"
  },
  "language_info": {
   "codemirror_mode": {
    "name": "ipython",
    "version": 3
   },
   "file_extension": ".py",
   "mimetype": "text/x-python",
   "name": "python",
   "nbconvert_exporter": "python",
   "pygments_lexer": "ipython3",
   "version": "3.7.10"
  }
 },
 "nbformat": 4,
 "nbformat_minor": 5
}
